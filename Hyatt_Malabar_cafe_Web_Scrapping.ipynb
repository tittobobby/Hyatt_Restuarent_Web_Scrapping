{
 "cells": [
  {
   "cell_type": "markdown",
   "id": "6a498f55",
   "metadata": {},
   "source": [
    "### Project aims to scrape Malabar Café in  Grand Hyatt Kochi, Bolgatty, Kochi"
   ]
  },
  {
   "cell_type": "code",
   "execution_count": null,
   "id": "23a1bcac",
   "metadata": {},
   "outputs": [],
   "source": []
  },
  {
   "cell_type": "markdown",
   "id": "4539fcf8",
   "metadata": {},
   "source": [
    "### Importing Libraries"
   ]
  },
  {
   "cell_type": "code",
   "execution_count": 1,
   "id": "43997fc3",
   "metadata": {},
   "outputs": [],
   "source": [
    "import requests\n",
    "from bs4 import BeautifulSoup\n",
    "import pandas as pd\n",
    "import time\n",
    "from selenium import webdriver"
   ]
  },
  {
   "cell_type": "markdown",
   "id": "37e2e224",
   "metadata": {},
   "source": [
    "### Loading the website URL"
   ]
  },
  {
   "cell_type": "code",
   "execution_count": 52,
   "id": "fbddf14f",
   "metadata": {},
   "outputs": [],
   "source": [
    "# creating a variable called 'url' and using the requests.get function to store content of the site to the variable data\n",
    "url = 'https://www.hyattrestaurants.com/en/dining/india/kochi/malabar-caf%C3%A9-restaurant-menu#5f322c618741d25d205fdf52'\n",
    "data = requests.get(url)"
   ]
  },
  {
   "cell_type": "code",
   "execution_count": 6,
   "id": "bd90d646",
   "metadata": {},
   "outputs": [
    {
     "name": "stderr",
     "output_type": "stream",
     "text": [
      "C:\\Users\\user\\AppData\\Local\\Temp\\ipykernel_6128\\906057503.py:2: DeprecationWarning: executable_path has been deprecated, please pass in a Service object\n",
      "  driver = webdriver.Chrome(executable_path=r\"C:\\Users\\user\\Desktop\\Python\\Projects\\Web Scrapping\\chromedriver\")\n"
     ]
    }
   ],
   "source": [
    "#creating a variable 'driver' and storing the chromedriver path to this variable\n",
    "driver = webdriver.Chrome(executable_path=r\"C:\\Users\\user\\Desktop\\Python\\Projects\\Web Scrapping\\chromedriver\")"
   ]
  },
  {
   "cell_type": "code",
   "execution_count": 53,
   "id": "16da37fc",
   "metadata": {},
   "outputs": [],
   "source": [
    "#Automating creation of a new window with selenium's driver\n",
    "#Scrolling to the end of the page to ensure all information is captured\n",
    "#rate-limiting requests after 2 secs\n",
    "driver.get(url)\n",
    "driver.execute_script(\"window.scrollTo(1,20000)\")\n",
    "time.sleep(2)"
   ]
  },
  {
   "cell_type": "code",
   "execution_count": 54,
   "id": "591348ea",
   "metadata": {},
   "outputs": [],
   "source": [
    "#Storing the content of the page to variable 'html'\n",
    "html = driver.page_source"
   ]
  },
  {
   "cell_type": "code",
   "execution_count": 55,
   "id": "e53e3338",
   "metadata": {},
   "outputs": [],
   "source": [
    "#writing content of the page to a new file to store data, this way we don't have to scrape Hyatt Malabar cafe everytime\n",
    "with open(\"hyatt_malabar_cafe_menu.html\", \"w+\",encoding='utf-8', errors='backslashreplace') as f:\n",
    "    f.write(html)"
   ]
  },
  {
   "cell_type": "code",
   "execution_count": 57,
   "id": "73439570",
   "metadata": {},
   "outputs": [],
   "source": [
    "#reading the content of Hyatt Malabar cafe and storing it to variable 'hyatt_full_data'\n",
    "with open(\"hyatt_malabar_cafe_menu.html\", \"r\",encoding='utf-8', errors='backslashreplace') as f:\n",
    "    hyatt_full_data = f.read()"
   ]
  },
  {
   "cell_type": "code",
   "execution_count": 58,
   "id": "8ffc4966",
   "metadata": {},
   "outputs": [],
   "source": [
    "#here i'm using Beautiful soup's html parser to parse data into a more structured format and storing this in variable 'soup'\n",
    "soup = BeautifulSoup(hyatt_full_data, 'html.parser')"
   ]
  },
  {
   "cell_type": "code",
   "execution_count": null,
   "id": "6ca6bff0",
   "metadata": {},
   "outputs": [],
   "source": []
  },
  {
   "cell_type": "markdown",
   "id": "e37256ee",
   "metadata": {},
   "source": [
    "### Manually do the inspection of Hyatt Malabar Cafe website to study the structure of the website to scrape data"
   ]
  },
  {
   "cell_type": "markdown",
   "id": "bc4d5527",
   "metadata": {},
   "source": [
    "### After inspection, I came to know that all the menu information is contained within a div with a class called 'listing_content'"
   ]
  },
  {
   "cell_type": "code",
   "execution_count": 59,
   "id": "4f091258",
   "metadata": {},
   "outputs": [],
   "source": [
    "hyatt_full_clean = soup.find_all(\"div\", class_=\"listing_content\")"
   ]
  },
  {
   "cell_type": "code",
   "execution_count": 60,
   "id": "f990f18b",
   "metadata": {},
   "outputs": [],
   "source": [
    "# convert the content of 'menu-item-container' to a list so I can iterate easily\n",
    "full_lunch_dinner_menu = list(hyatt_full_clean)"
   ]
  },
  {
   "cell_type": "code",
   "execution_count": null,
   "id": "dc602fbf",
   "metadata": {},
   "outputs": [],
   "source": []
  },
  {
   "cell_type": "code",
   "execution_count": 61,
   "id": "ce368544",
   "metadata": {},
   "outputs": [
    {
     "data": {
      "text/plain": [
       "'Kerala Beef Fry'"
      ]
     },
     "execution_count": 61,
     "metadata": {},
     "output_type": "execute_result"
    }
   ],
   "source": [
    "# To find the name of the item\n",
    "full_lunch_dinner_menu[9].contents[3].text.strip()"
   ]
  },
  {
   "cell_type": "code",
   "execution_count": 62,
   "id": "9ffa4c35",
   "metadata": {},
   "outputs": [
    {
     "data": {
      "text/plain": [
       "'10'"
      ]
     },
     "execution_count": 62,
     "metadata": {},
     "output_type": "execute_result"
    }
   ],
   "source": [
    "full_lunch_dinner_menu[9].contents[1].text.strip()\n",
    "#Gives Index"
   ]
  },
  {
   "cell_type": "code",
   "execution_count": 63,
   "id": "6947a26a",
   "metadata": {},
   "outputs": [
    {
     "data": {
      "text/plain": [
       "'Fried Spicy Beef. 183 Cal. Per 100g Serving'"
      ]
     },
     "execution_count": 63,
     "metadata": {},
     "output_type": "execute_result"
    }
   ],
   "source": [
    "# To find the description of the dishes\n",
    "full_lunch_dinner_menu[9].contents[7].text.strip()\n"
   ]
  },
  {
   "cell_type": "code",
   "execution_count": 64,
   "id": "ba7efb4c",
   "metadata": {},
   "outputs": [
    {
     "data": {
      "text/plain": [
       "'₹ 700'"
      ]
     },
     "execution_count": 64,
     "metadata": {},
     "output_type": "execute_result"
    }
   ],
   "source": [
    "# To find the price of the dishes\n",
    "full_lunch_dinner_menu[9].contents[9].text.strip()"
   ]
  },
  {
   "cell_type": "code",
   "execution_count": null,
   "id": "5a9d6b26",
   "metadata": {},
   "outputs": [],
   "source": []
  },
  {
   "cell_type": "code",
   "execution_count": null,
   "id": "61bad04c",
   "metadata": {},
   "outputs": [],
   "source": []
  },
  {
   "cell_type": "code",
   "execution_count": 48,
   "id": "cabbf4c8",
   "metadata": {},
   "outputs": [],
   "source": [
    "# Creating empty list to store data\n",
    "item = []\n",
    "item_description = []\n",
    "item_price = []\n",
    "# Only 69 items are present\n",
    "for i in range(1,69):\n",
    "    # Listing all items under 'listing_content'\n",
    "    menu = list(soup.find_all(\"div\", class_=\"listing_content\"))[i]\n",
    "    # Storing the values of name, price and description of each item as the loop goes through each iteration\n",
    "    try:\n",
    "        food = menu.contents[3].text.strip()\n",
    "        food_description = menu.contents[7].text.strip()\n",
    "        food_price = menu.contents[9].text.strip()\n",
    "    except:\n",
    "        food = \"\"\n",
    "        food_description = \"\"\n",
    "        food_price = \"\"\n",
    "    # Append the list created initially with the respective values of name, description and price as the loop progresses\n",
    "    item.append(food)\n",
    "    item_description.append(food_description)\n",
    "    item_price.append(food_price)"
   ]
  },
  {
   "cell_type": "code",
   "execution_count": 65,
   "id": "1a5df51c",
   "metadata": {},
   "outputs": [],
   "source": [
    "full_lunch_dinner_menu = pd.DataFrame({\n",
    "    'Name':item,\n",
    "    'Description':item_description,\n",
    "    'Price':item_price\n",
    "})"
   ]
  },
  {
   "cell_type": "code",
   "execution_count": 66,
   "id": "5231e52c",
   "metadata": {},
   "outputs": [
    {
     "data": {
      "text/html": [
       "<div>\n",
       "<style scoped>\n",
       "    .dataframe tbody tr th:only-of-type {\n",
       "        vertical-align: middle;\n",
       "    }\n",
       "\n",
       "    .dataframe tbody tr th {\n",
       "        vertical-align: top;\n",
       "    }\n",
       "\n",
       "    .dataframe thead th {\n",
       "        text-align: right;\n",
       "    }\n",
       "</style>\n",
       "<table border=\"1\" class=\"dataframe\">\n",
       "  <thead>\n",
       "    <tr style=\"text-align: right;\">\n",
       "      <th></th>\n",
       "      <th>Name</th>\n",
       "      <th>Description</th>\n",
       "      <th>Price</th>\n",
       "    </tr>\n",
       "  </thead>\n",
       "  <tbody>\n",
       "    <tr>\n",
       "      <th>0</th>\n",
       "      <td>Pickled Cucumber, Cherry Tomato And Burrata Salad</td>\n",
       "      <td>Toasted Almonds. 176 Cal. Per 100g Serving</td>\n",
       "      <td>₹ 650</td>\n",
       "    </tr>\n",
       "    <tr>\n",
       "      <th>1</th>\n",
       "      <td>Caesar Salad</td>\n",
       "      <td>Chicken. 163 Cal. Per 100g Serving</td>\n",
       "      <td>₹ 600</td>\n",
       "    </tr>\n",
       "    <tr>\n",
       "      <th>2</th>\n",
       "      <td>Caesar Salad</td>\n",
       "      <td>Prawn - Crispy Romaine, Chargrilled Chicken/ P...</td>\n",
       "      <td>₹ 750</td>\n",
       "    </tr>\n",
       "    <tr>\n",
       "      <th>3</th>\n",
       "      <td>Malabar Shrimp Cocktail</td>\n",
       "      <td>Poached Shrimp With Black Pepper Mayonnaise, Q...</td>\n",
       "      <td>₹ 700</td>\n",
       "    </tr>\n",
       "    <tr>\n",
       "      <th>4</th>\n",
       "      <td>Malabar Café Cutlet</td>\n",
       "      <td>Beetroot, Kandhari Chili, Fennel. 210 Cal. Per...</td>\n",
       "      <td>₹ 450</td>\n",
       "    </tr>\n",
       "    <tr>\n",
       "      <th>...</th>\n",
       "      <td>...</td>\n",
       "      <td>...</td>\n",
       "      <td>...</td>\n",
       "    </tr>\n",
       "    <tr>\n",
       "      <th>63</th>\n",
       "      <td>Dal Tadka</td>\n",
       "      <td>Yellow Lentils, Garlic, Cumin, Red Chili. 172 ...</td>\n",
       "      <td>₹ 550</td>\n",
       "    </tr>\n",
       "    <tr>\n",
       "      <th>64</th>\n",
       "      <td>Parippu Pradhaman</td>\n",
       "      <td>Sweet Lentils Simmered In Coconut Milk, Cane S...</td>\n",
       "      <td>₹ 250</td>\n",
       "    </tr>\n",
       "    <tr>\n",
       "      <th>65</th>\n",
       "      <td>Palada</td>\n",
       "      <td>Rice ﬂakes Cooked In Milk, Sugar And Ghee. 207...</td>\n",
       "      <td>₹ 250</td>\n",
       "    </tr>\n",
       "    <tr>\n",
       "      <th>66</th>\n",
       "      <td>Gulab Jamun</td>\n",
       "      <td>Indian Fried Dumpling Soaked In Sugar Syrup. 1...</td>\n",
       "      <td>₹ 350</td>\n",
       "    </tr>\n",
       "    <tr>\n",
       "      <th>67</th>\n",
       "      <td>Angoori Rasmalai</td>\n",
       "      <td>Cottage Cheese Dumpling, Soaked In Sweetened M...</td>\n",
       "      <td>₹ 350</td>\n",
       "    </tr>\n",
       "  </tbody>\n",
       "</table>\n",
       "<p>68 rows × 3 columns</p>\n",
       "</div>"
      ],
      "text/plain": [
       "                                                 Name  \\\n",
       "0   Pickled Cucumber, Cherry Tomato And Burrata Salad   \n",
       "1                                        Caesar Salad   \n",
       "2                                        Caesar Salad   \n",
       "3                             Malabar Shrimp Cocktail   \n",
       "4                                 Malabar Café Cutlet   \n",
       "..                                                ...   \n",
       "63                                          Dal Tadka   \n",
       "64                                  Parippu Pradhaman   \n",
       "65                                             Palada   \n",
       "66                                        Gulab Jamun   \n",
       "67                                   Angoori Rasmalai   \n",
       "\n",
       "                                          Description  Price  \n",
       "0          Toasted Almonds. 176 Cal. Per 100g Serving  ₹ 650  \n",
       "1                  Chicken. 163 Cal. Per 100g Serving  ₹ 600  \n",
       "2   Prawn - Crispy Romaine, Chargrilled Chicken/ P...  ₹ 750  \n",
       "3   Poached Shrimp With Black Pepper Mayonnaise, Q...  ₹ 700  \n",
       "4   Beetroot, Kandhari Chili, Fennel. 210 Cal. Per...  ₹ 450  \n",
       "..                                                ...    ...  \n",
       "63  Yellow Lentils, Garlic, Cumin, Red Chili. 172 ...  ₹ 550  \n",
       "64  Sweet Lentils Simmered In Coconut Milk, Cane S...  ₹ 250  \n",
       "65  Rice ﬂakes Cooked In Milk, Sugar And Ghee. 207...  ₹ 250  \n",
       "66  Indian Fried Dumpling Soaked In Sugar Syrup. 1...  ₹ 350  \n",
       "67  Cottage Cheese Dumpling, Soaked In Sweetened M...  ₹ 350  \n",
       "\n",
       "[68 rows x 3 columns]"
      ]
     },
     "execution_count": 66,
     "metadata": {},
     "output_type": "execute_result"
    }
   ],
   "source": [
    "full_lunch_dinner_menu"
   ]
  },
  {
   "cell_type": "markdown",
   "id": "1333f8ec",
   "metadata": {},
   "source": [
    "### Saving the dataFrame to a CSV file called \"full_lunch_dinner_menu.csv\" with the index column removed."
   ]
  },
  {
   "cell_type": "code",
   "execution_count": 90,
   "id": "8c5b67cc",
   "metadata": {},
   "outputs": [],
   "source": [
    "df = pd.DataFrame(full_lunch_dinner_menu)\n",
    "\n",
    "# save the dataframe into csv file\n",
    "df.to_csv('full_lunch_dinner_menu.csv', index=False)"
   ]
  },
  {
   "cell_type": "code",
   "execution_count": null,
   "id": "d1848591",
   "metadata": {},
   "outputs": [],
   "source": []
  },
  {
   "cell_type": "code",
   "execution_count": null,
   "id": "e179f633",
   "metadata": {},
   "outputs": [],
   "source": []
  }
 ],
 "metadata": {
  "kernelspec": {
   "display_name": "Python 3 (ipykernel)",
   "language": "python",
   "name": "python3"
  },
  "language_info": {
   "codemirror_mode": {
    "name": "ipython",
    "version": 3
   },
   "file_extension": ".py",
   "mimetype": "text/x-python",
   "name": "python",
   "nbconvert_exporter": "python",
   "pygments_lexer": "ipython3",
   "version": "3.9.12"
  }
 },
 "nbformat": 4,
 "nbformat_minor": 5
}
